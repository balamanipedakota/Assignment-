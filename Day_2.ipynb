{
  "nbformat": 4,
  "nbformat_minor": 0,
  "metadata": {
    "colab": {
      "provenance": [],
      "authorship_tag": "ABX9TyPIedB7O2DfyGyFPqJGfzN+",
      "include_colab_link": true
    },
    "kernelspec": {
      "name": "python3",
      "display_name": "Python 3"
    },
    "language_info": {
      "name": "python"
    }
  },
  "cells": [
    {
      "cell_type": "markdown",
      "metadata": {
        "id": "view-in-github",
        "colab_type": "text"
      },
      "source": [
        "<a href=\"https://colab.research.google.com/github/balamanipedakota/Assignment-/blob/main/Day_2.ipynb\" target=\"_parent\"><img src=\"https://colab.research.google.com/assets/colab-badge.svg\" alt=\"Open In Colab\"/></a>"
      ]
    },
    {
      "cell_type": "code",
      "execution_count": null,
      "metadata": {
        "colab": {
          "base_uri": "https://localhost:8080/"
        },
        "id": "dAExovno5b2U",
        "outputId": "bee484bc-4af3-4923-da4e-12c9767c44c3"
      },
      "outputs": [
        {
          "output_type": "stream",
          "name": "stdout",
          "text": [
            "original array: [1 2 3 4 5]\n",
            "squared array: [ 1  4  9 16 25]\n"
          ]
        }
      ],
      "source": [
        "import numpy as np\n",
        "\n",
        "def square_elements(arr):\n",
        "  return np.square(arr)\n",
        "\n",
        "my_array = np.array([1,2,3,4,5])\n",
        "squared_array = square_elements(my_array)\n",
        "print(\"original array:\",my_array)\n",
        "print(\"squared array:\",squared_array)\n"
      ]
    },
    {
      "cell_type": "code",
      "source": [
        "import numpy as bala\n",
        "\n",
        "b = bala.array([6,7,8,9,5])\n",
        "print(\"matrix:\\n\",b)\n",
        "print(f\"shape:{b.shape}\")\n",
        "print(f\"number of dimentions[]({b.ndim})\")"
      ],
      "metadata": {
        "colab": {
          "base_uri": "https://localhost:8080/"
        },
        "id": "seqKFqSr-y0b",
        "outputId": "9908c025-5e3a-406a-c48e-e36554bac651"
      },
      "execution_count": null,
      "outputs": [
        {
          "output_type": "stream",
          "name": "stdout",
          "text": [
            "matrix:\n",
            " [6 7 8 9 5]\n",
            "shape:(5,)\n",
            "number of dimentions[](1)\n"
          ]
        }
      ]
    },
    {
      "cell_type": "code",
      "source": [
        "import numpy as np\n",
        "\n",
        "def square_elements(arr):\n",
        "  return np.square(arr)\n",
        "\n",
        "my_array = np.array([6,7,8,9,5])\n",
        "squared_array = square_elements(my_array)\n",
        "print(\"original array:\",my_array)\n",
        "print(\"squared array:\",squared_array)"
      ],
      "metadata": {
        "colab": {
          "base_uri": "https://localhost:8080/"
        },
        "id": "0otdu3wfD53r",
        "outputId": "f746f37d-4050-4030-c885-0b08e0aabef6"
      },
      "execution_count": null,
      "outputs": [
        {
          "output_type": "stream",
          "name": "stdout",
          "text": [
            "original array: [6 7 8 9 5]\n",
            "squared array: [36 49 64 81 25]\n"
          ]
        }
      ]
    },
    {
      "cell_type": "code",
      "source": [
        "#1.temparature data analysis\n",
        "import numpy as np\n",
        "weekly_temps = np.array([22,24,25,23,26,28,27])\n",
        "print(\"first 3 days:\",weekly_temps[:3])"
      ],
      "metadata": {
        "id": "z_uU6CMhEqQd",
        "colab": {
          "base_uri": "https://localhost:8080/"
        },
        "outputId": "ab36be1d-945e-4fcb-d5a2-72162097a5c3"
      },
      "execution_count": null,
      "outputs": [
        {
          "output_type": "stream",
          "name": "stdout",
          "text": [
            "first 3 days: [22 24 25]\n"
          ]
        }
      ]
    },
    {
      "cell_type": "code",
      "source": [
        "#2.sensor data simulation\n",
        "import numpy as np\n",
        "sensor_readings = np.array([[21.5,22.0,np.nan,23.1,24.2,np.nan,25.0],[20.0,np.nan,21.5,22.3,np.nan,23.5,24.0]])\n",
        "sensor_readings[np.isnan(sensor_readings)] = 0\n",
        "print(\"\\nsensor readings (nan replaced with 0):\\n\",sensor_readings)\n"
      ],
      "metadata": {
        "colab": {
          "base_uri": "https://localhost:8080/"
        },
        "id": "W_Xe-bNeNNKe",
        "outputId": "d3184a2d-2000-4596-8ba7-b336e277a04d"
      },
      "execution_count": null,
      "outputs": [
        {
          "output_type": "stream",
          "name": "stdout",
          "text": [
            "\n",
            "sensor readings (nan replaced with 0):\n",
            " [[21.5 22.   0.  23.1 24.2  0.  25. ]\n",
            " [20.   0.  21.5 22.3  0.  23.5 24. ]]\n"
          ]
        }
      ]
    },
    {
      "cell_type": "code",
      "source": [
        "#3.inventory management\n",
        "import numpy as np\n",
        "product_ids = np.array([101,105,112,108])\n",
        "all_bins = np.concatenate([product_ids,product_ids])\n",
        "print(\"\\ncombined bins:\",all_bins)"
      ],
      "metadata": {
        "colab": {
          "base_uri": "https://localhost:8080/"
        },
        "id": "SO9f_sBINfDx",
        "outputId": "c7ad3e28-b132-45e7-f3be-0182ad19ac0e"
      },
      "execution_count": null,
      "outputs": [
        {
          "output_type": "stream",
          "name": "stdout",
          "text": [
            "\n",
            "combined bins: [101 105 112 108 101 105 112 108]\n"
          ]
        }
      ]
    },
    {
      "cell_type": "code",
      "source": [
        "#4.quarterly sales report\n",
        "import numpy as np\n",
        "q1_sales = np.array([500,520,550])\n",
        "q2_sales = np.array([580,600,620])\n",
        "sales_report = np.vstack((q1_sales,q2_sales))\n",
        "print(\"\\nquarterly sales report:\\n\",sales_report)"
      ],
      "metadata": {
        "colab": {
          "base_uri": "https://localhost:8080/"
        },
        "id": "bT5JCp7_QA8K",
        "outputId": "50f60f16-ebd1-44ed-c4a9-c3f3e1de12a4"
      },
      "execution_count": null,
      "outputs": [
        {
          "output_type": "stream",
          "name": "stdout",
          "text": [
            "\n",
            "quarterly sales report:\n",
            " [[500 520 550]\n",
            " [580 600 620]]\n"
          ]
        }
      ]
    },
    {
      "cell_type": "code",
      "source": [
        "#5.finding high performers\n",
        "import numpy as np\n",
        "scores = np.array([85,92,78,88,95,76])\n",
        "high_scores = scores[scores>=90]\n",
        "print(\"\\nhigh performers(>=90):\",high_scores)\n"
      ],
      "metadata": {
        "colab": {
          "base_uri": "https://localhost:8080/"
        },
        "id": "tGilzqtCRNfB",
        "outputId": "9e229608-55fa-4170-bcd7-c92a4966347e"
      },
      "execution_count": null,
      "outputs": [
        {
          "output_type": "stream",
          "name": "stdout",
          "text": [
            "\n",
            "high performers(>=90): [92 95]\n"
          ]
        }
      ]
    }
  ]
}