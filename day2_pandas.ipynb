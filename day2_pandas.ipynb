{
  "nbformat": 4,
  "nbformat_minor": 0,
  "metadata": {
    "colab": {
      "provenance": [],
      "authorship_tag": "ABX9TyMJmKfG8uKLATmnH/boZxeE",
      "include_colab_link": true
    },
    "kernelspec": {
      "name": "python3",
      "display_name": "Python 3"
    },
    "language_info": {
      "name": "python"
    }
  },
  "cells": [
    {
      "cell_type": "markdown",
      "metadata": {
        "id": "view-in-github",
        "colab_type": "text"
      },
      "source": [
        "<a href=\"https://colab.research.google.com/github/balamanipedakota/Assignment-/blob/main/day2_pandas.ipynb\" target=\"_parent\"><img src=\"https://colab.research.google.com/assets/colab-badge.svg\" alt=\"Open In Colab\"/></a>"
      ]
    },
    {
      "cell_type": "code",
      "execution_count": 1,
      "metadata": {
        "colab": {
          "base_uri": "https://localhost:8080/"
        },
        "id": "RmM01glLSJhQ",
        "outputId": "b5bf3cde-b5a7-4634-e2c0-6db522350b01"
      },
      "outputs": [
        {
          "output_type": "stream",
          "name": "stdout",
          "text": [
            "\n",
            "bob using loc:\n",
            "   name   department  salary\n",
            "1  bob  engineering   85000\n",
            "\n",
            "bob using iloc:\n",
            " name                  bob\n",
            "department    engineering\n",
            "salary              85000\n",
            "Name: 1, dtype: object\n"
          ]
        }
      ],
      "source": [
        "#1.employee data retreival\n",
        "import pandas as pd\n",
        "import numpy as np\n",
        "data = {\n",
        "        'name':['alice','bob','charlie'],\n",
        "        'department':['hr','engineering','sales'],\n",
        "        'salary':[60000,85000,75000]\n",
        "}\n",
        "df = pd.DataFrame(data)\n",
        "print(\"\\nbob using loc:\\n\",df.loc[df['name'] =='bob'])\n",
        "print(\"\\nbob using iloc:\\n\",df.iloc[1])"
      ]
    },
    {
      "cell_type": "code",
      "source": [
        "#2.combining student records\n",
        "import pandas as pd\n",
        "import numpy as np\n",
        "freshmen = pd.DataFrame({'studentid':[1,2],'major':['cs','math']})\n",
        "sophomores = pd.DataFrame({'studentid':[3,4],'major':['physics','chemistry']})\n",
        "all_students = pd.concat([freshmen,sophomores],ignore_index = True)\n",
        "print(\"\\nall students:\\n\",all_students)"
      ],
      "metadata": {
        "colab": {
          "base_uri": "https://localhost:8080/"
        },
        "id": "eg6WNNSIXYSf",
        "outputId": "47a136c5-a354-4250-f775-0fa12165bfb0"
      },
      "execution_count": 2,
      "outputs": [
        {
          "output_type": "stream",
          "name": "stdout",
          "text": [
            "\n",
            "all students:\n",
            "    studentid      major\n",
            "0          1         cs\n",
            "1          2       math\n",
            "2          3    physics\n",
            "3          4  chemistry\n"
          ]
        }
      ]
    },
    {
      "cell_type": "code",
      "source": [
        "#3.project assignment\n",
        "import pandas as pd\n",
        "import numpy as np\n",
        "projects = pd.DataFrame({'project_id':[1,2,3],'project_name':['ai','web dev','data science']})\n",
        "employees = pd.DataFrame({'employee_id':[101,102,103],'project_id':[1,3,2]})\n",
        "merged = pd.merge(employees,projects,on = 'project_id')\n",
        "print(\"\\nemployee projects:\\n\",merged)"
      ],
      "metadata": {
        "colab": {
          "base_uri": "https://localhost:8080/"
        },
        "id": "CUBWZ-CQZM_E",
        "outputId": "ff131a39-187a-4d25-ed12-df6c8e2f5891"
      },
      "execution_count": null,
      "outputs": [
        {
          "output_type": "stream",
          "name": "stdout",
          "text": [
            "\n",
            "employee projects:\n",
            "    employee_id  project_id  project_name\n",
            "0          101           1            ai\n",
            "1          102           3  data science\n",
            "2          103           2       web dev\n"
          ]
        }
      ]
    },
    {
      "cell_type": "code",
      "source": [
        "#4.cleaning a customer list\n",
        "customers = pd.DataFrame({'name':['john','jane','john','mike'],\n",
        "                          'phone number':['12345',np.nan,'12345',np.nan]\n",
        "                          })\n",
        "customers_clean = customers.drop_duplicates()\n",
        "customers_clean['phone number']=customers_clean['phone number'].fillna('not available')\n",
        "print(\"\\n cleaned customer list:\\n\",customers_clean)\n"
      ],
      "metadata": {
        "colab": {
          "base_uri": "https://localhost:8080/"
        },
        "id": "Rm_Ad_n7awHP",
        "outputId": "3d257a07-5a60-4f0d-8566-7291c33359f7"
      },
      "execution_count": null,
      "outputs": [
        {
          "output_type": "stream",
          "name": "stdout",
          "text": [
            "\n",
            " cleaned customer list:\n",
            "    name   phone number\n",
            "0  john          12345\n",
            "1  jane  not available\n",
            "3  mike  not available\n"
          ]
        },
        {
          "output_type": "stream",
          "name": "stderr",
          "text": [
            "/tmp/ipython-input-4288131926.py:6: SettingWithCopyWarning: \n",
            "A value is trying to be set on a copy of a slice from a DataFrame.\n",
            "Try using .loc[row_indexer,col_indexer] = value instead\n",
            "\n",
            "See the caveats in the documentation: https://pandas.pydata.org/pandas-docs/stable/user_guide/indexing.html#returning-a-view-versus-a-copy\n",
            "  customers_clean['phone number']=customers_clean['phone number'].fillna('not available')\n"
          ]
        }
      ]
    },
    {
      "cell_type": "code",
      "source": [
        "#5.analyzing sales by region\n",
        "import pandas as pd\n",
        "import numpy as np\n",
        "sales = pd.DataFrame({'region':['east','west','east','north','south','east'],'revenue':[200,150,300,100,250,400]\n",
        "                      })\n",
        "east_sales = sales[sales['region']=='east']\n",
        "print(\"\\neast region data:\\n\",east_sales)\n",
        "print(\"total east revenue:\",east_sales['revenue'].sum())"
      ],
      "metadata": {
        "colab": {
          "base_uri": "https://localhost:8080/"
        },
        "id": "5lBatTP-cIfQ",
        "outputId": "3133c348-3049-47cc-8f4a-1598d419bd6f"
      },
      "execution_count": null,
      "outputs": [
        {
          "output_type": "stream",
          "name": "stdout",
          "text": [
            "\n",
            "east region data:\n",
            "   region  revenue\n",
            "0   east      200\n",
            "2   east      300\n",
            "5   east      400\n",
            "total east revenue: 900\n"
          ]
        }
      ]
    },
    {
      "cell_type": "code",
      "source": [],
      "metadata": {
        "id": "vFIFXza0cHog"
      },
      "execution_count": null,
      "outputs": []
    },
    {
      "cell_type": "code",
      "source": [],
      "metadata": {
        "id": "EnqaE1g7avjI"
      },
      "execution_count": null,
      "outputs": []
    }
  ]
}